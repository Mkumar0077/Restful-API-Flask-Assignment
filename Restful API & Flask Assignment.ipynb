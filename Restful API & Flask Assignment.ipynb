{
 "cells": [
  {
   "cell_type": "markdown",
   "id": "b9c8f00c",
   "metadata": {},
   "source": [
    "## **Restfull API & Flask**\n",
    "   ### Assignment Questions"
   ]
  },
  {
   "cell_type": "markdown",
   "id": "d37b185a",
   "metadata": {},
   "source": [
    "**Q1.What is a RESTFul API?**\n",
    "   - A RESTful API (Representational State Transfer API) is a web service that follows REST principles, making it easy to interact with systems over the internet. It relies on standard HTTP methods like GET, POST, PUT, and DELETE to perform operations on resources, which are often represented in formats like JSON or XML.\n",
    "\n",
    "  - features of RESTful APIs:-\n",
    "- **Stateless**: Each request from a client to a server must contain all the necessary information, meaning no session is stored on the server.\n",
    "- **Uniform Interface**: It uses predictable endpoints and resource-based URLs for easy interaction.\n",
    "- **Client-Server Architecture**: The client and server are separate entities, allowing scalability.\n",
    "- **Cacheable**: Responses can be cached to improve performance.\n",
    "- **Layered System**: Can have intermediaries like load balancers or proxies without affecting communication.\n",
    "\n"
   ]
  },
  {
   "cell_type": "markdown",
   "id": "2e55748d",
   "metadata": {},
   "source": [
    "**Q2.Explain the concept of API specification.**\n",
    "  - An API specification defines how an API should behave, providing a standardized way for developers to understand and interact with it. It acts as a blueprint, detailing available endpoints, request and response formats, authentication methods, and error handling.\n",
    "\n",
    "  - components of an API specification:-\n",
    "- **Endpoints**: URLs defining where and how resources can be accessed.\n",
    "- **Methods**: HTTP verbs like GET, POST, PUT, DELETE.\n",
    "- **Request Parameters**: Headers, body, query parameters for data exchange.\n",
    "- **Response Formats**: Defines output structure, often in JSON or XML.\n",
    "- **Authentication**: Security methods like API keys, OAuth, or JWT.\n",
    "- **Error Handling**: Specifies how errors are communicated with status codes and messages.\n"
   ]
  },
  {
   "cell_type": "markdown",
   "id": "e7975b1c",
   "metadata": {},
   "source": [
    "**Q3.What is Flask, and why is it popular for building APIs?**\n",
    "  - Flask is a lightweight and flexible **Python web framework** used to build web applications and APIs. It follows the **microframework** approach, meaning it provides only the essential components, allowing developers to add extensions as needed.\n",
    "\n",
    "   - **Why is Flask Popular for Building APIs?**\n",
    "     - **Minimalistic & Easy to Use**: Flask is simple to set up, making it ideal for quick API development.\n",
    "     - **Extensible**: You can integrate various libraries for authentication, database interaction, and more.\n",
    "     - **RESTful API Support**: Its design makes it straightforward to create RESTful APIs.\n",
    "     - **Built-in Development Server & Debugger**: Simplifies testing and debugging.\n",
    "     - **Supports JSON Handling**: Flask makes working with JSON easy for API responses.\n",
    "     - **Scalable**: While lightweight, it can scale efficiently with tools like Flask-RESTful and Flask-SQLAlchemy.\n",
    "\n",
    "Because of its simplicity, Flask is favored by beginners and experienced developers alike for creating efficient and scalable APIs."
   ]
  },
  {
   "cell_type": "markdown",
   "id": "949a763b",
   "metadata": {},
   "source": [
    "**Q4.What is routing in Flask?**\n",
    "  - In Flask, **routing** is the process of mapping URLs to specific functions, allowing web applications or APIs to handle incoming requests and return appropriate responses. Essentially, it defines how different parts of your application respond to different URLs.\n"
   ]
  },
  {
   "cell_type": "markdown",
   "id": "1338e4bb",
   "metadata": {},
   "source": [
    "**Q5.How do you create a simple Flask application?**\n",
    "  - Creating a simple Flask application steps:-\n",
    "  ### Step 1: Import the Flask class from the flask module\n",
    "from flask import Flask\n",
    "\n",
    "### Step 2: Create an instance of the Flask application\n",
    "### The __name__ variable is a special Python variable representing the current module\n",
    "app = Flask(__name__)\n",
    "\n",
    "### Step 3: Define a route using a decorator\n",
    "### This tells Flask to run the function below whenever someone visits the \"/\" URL\n",
    "@app.route(\"/\")\n",
    "def home():\n",
    "    # Step 4: Return a simple string as a response\n",
    "    return \"Welcome to your first Flask API!\"\n",
    "\n",
    "### Step 5: Start the Flask development server\n",
    "### This only runs if this file is executed directly, not if it's imported as a module\n",
    "if __name__ == \"__main__\":\n",
    "    \n",
    "  ### The debug=True allows live reloading and error display in browser\n",
    "    app.run(debug=True)\n",
    "\n"
   ]
  },
  {
   "cell_type": "markdown",
   "id": "6eee3320",
   "metadata": {},
   "source": [
    "**Q6. What are HTTP methods used in RESTful APIs?**\n",
    "  - RESTful APIs rely on HTTP methods to perform operations on resources. Here are the commonly used methods:\n",
    "\n",
    "- **GET**: Retrieves data from the server. Example: Fetching user details.\n",
    "- **POST**: Sends data to the server to create a new resource. Example: Adding a new user.\n",
    "- **PUT**: Updates an existing resource by replacing it completely. Example: Updating user information.\n",
    "- **PATCH**: Partially updates an existing resource. Example: Changing a user’s email.\n",
    "- **DELETE**: Removes a resource from the server. Example: Deleting a user account.\n",
    "- **HEAD**: Similar to GET but returns only headers, not the body.\n",
    "- **OPTIONS**: Provides information about the communication options available for a resource.\n",
    "\n",
    "Each method serves a specific function in RESTful APIs, ensuring structured and efficient communication.\n"
   ]
  },
  {
   "cell_type": "markdown",
   "id": "255672d8",
   "metadata": {},
   "source": [
    "**Q7. What is the purpose of the @app.route() decorator in Flask?**\n",
    " - The @app.route() decorator in Flask is used to define routes, which determine how a web application responds to incoming requests at specific URLs. It essentially maps a URL to a Python function, making it possible to create dynamic web pages and APIs.\n",
    "  # Purpose of @app.route():-\n",
    "- **Associates a URL with a function:-** When a user accesses a specific route, Flask executes the associated function.\n",
    "- **Supports dynamic URLs:-** You can define routes with parameters to handle variable input.\n",
    "- **Handles different HTTP methods:-** By default, it handles GET requests, but you can specify others like POST, PUT, DELETE.\n"
   ]
  },
  {
   "cell_type": "markdown",
   "id": "ea710ba2",
   "metadata": {},
   "source": [
    "**Q8.What is the difference between GET and POST HTTP methods?**\n",
    "  - GET and POST are two fundamental HTTP methods used in RESTful APIs, each serving a distinct purpose.\n",
    "\n",
    "### **GET vs. POST**\n",
    "| Feature | GET | POST |\n",
    "|---------|-----|------|\n",
    "| **Purpose** | Retrieves data from the server | Sends data to the server to create or update resources |\n",
    "| **Data in Request** | Passed in URL as query parameters | Sent in request body |\n",
    "| **Caching** | Can be cached | Not cached by default |\n",
    "| **Security** | Less secure as parameters are visible in the URL | More secure as data is hidden in request body |\n",
    "| **Idempotency** | Yes, multiple identical GET requests return the same result | No, repeated POST requests may create multiple resources |\n",
    "| **Use Case** | Fetching information (e.g., user profile, search results) | Submitting forms, uploading files, creating resources |\n",
    "\n",
    "GET is great for fetching data, while POST is ideal for sending new information to the server."
   ]
  },
  {
   "cell_type": "markdown",
   "id": "8d2ba9af",
   "metadata": {},
   "source": [
    "**Q9. How do you handle errors in Flask APIs?**\n",
    " ### **Approaches to Error Handling in Flask:**\n",
    "\n",
    "#### 1️⃣ **Using HTTP Status Codes**\n",
    "Flask allows returning appropriate HTTP status codes when an error occurs.\n",
    "```python\n",
    "from flask import Flask, jsonify\n",
    "\n",
    "app = Flask(__name__)\n",
    "\n",
    "@app.route('/divide/<int:num>')\n",
    "def divide_by_zero(num):\n",
    "    if num == 0:\n",
    "        return jsonify({\"error\": \"Cannot divide by zero!\"}), 400\n",
    "    return jsonify({\"result\": 100 / num})\n",
    "\n",
    "if __name__ == \"__main__\":\n",
    "    app.run(debug=True)\n",
    "```\n",
    "💡 **Here, a 400 (Bad Request) response is returned if the user tries to divide by zero.**\n",
    "\n",
    "---\n",
    "\n",
    "#### 2️⃣ **Using Flask’s `abort()` Function**\n",
    "`abort()` stops execution and returns an error response instantly.\n",
    "```python\n",
    "from flask import Flask, abort\n",
    "\n",
    "app = Flask(__name__)\n",
    "\n",
    "@app.route('/protected')\n",
    "def protected():\n",
    "    abort(403)  # Forbidden access\n",
    "\n",
    "if __name__ == \"__main__\":\n",
    "    app.run(debug=True)\n",
    "```\n",
    "💡 **This returns a 403 error when users access `/protected`.**\n",
    "\n",
    "---\n",
    "\n",
    "#### 3️⃣ **Custom Error Handlers**\n",
    "Flask lets you define custom error pages for specific error codes.\n",
    "```python\n",
    "@app.errorhandler(404)\n",
    "def not_found(error):\n",
    "    return jsonify({\"error\": \"Page not found\"}), 404\n",
    "```\n",
    "💡 **Now, when a user accesses a non-existent route, they receive a custom 404 response instead of the default message.**\n",
    "\n",
    "---\n",
    "\n",
    "#### 4️⃣ **Handling Exceptions Globally**\n",
    "You can catch exceptions like `KeyError` and respond properly.\n",
    "```python\n",
    "@app.errorhandler(KeyError)\n",
    "def key_error_handler(error):\n",
    "    return jsonify({\"error\": \"Missing required data\"}), 400\n",
    "```\n",
    "💡 **This ensures that missing keys in a request don’t cause unexpected failures.**\n",
    "\n",
    "---\n",
    "\n"
   ]
  },
  {
   "cell_type": "markdown",
   "id": "0842ccdd",
   "metadata": {},
   "source": [
    "**Q10. How do you connect Flask to a SQL database?**\n",
    "  - Connecting Flask to a **SQL database** allows we have to store and retrieve data efficiently in web applications.\n",
    "   Flask provides several ways to integrate with databases, but the most common approach is using **Flask-SQLAlchemy**, an ORM (Object-Relational Mapper) for handling database interactions.\n"
   ]
  },
  {
   "cell_type": "markdown",
   "id": "806666b4",
   "metadata": {},
   "source": [
    "**Q11.What is the role of Flask-SQLAlchemy?**\n",
    "  - Flask-SQLAlchemy is an extension for Flask that integrates SQLAlchemy, a powerful **Object-Relational Mapper (ORM)**, into Flask applications. It simplifies database interactions, allowing developers to work with databases using Python classes instead of raw SQL queries.\n",
    "\n",
    "### **Role of Flask-SQLAlchemy**\n",
    "- **Database Connectivity**: Provides seamless integration with relational databases like SQLite, PostgreSQL, and MySQL.\n",
    "- **ORM Support**: Converts Python objects into database tables, making CRUD operations easier.\n",
    "- **Automatic Schema Management**: Helps define database models and structure without manual SQL commands.\n",
    "- **Efficient Query Handling**: Allows querying the database using Python syntax, avoiding complex SQL queries.\n",
    "- **Session Management**: Handles transactions using `db.session`, ensuring data consistency.\n",
    "- **Security & Scalability**: Offers protection against SQL injection and enhances scalability for large applications.\n"
   ]
  },
  {
   "cell_type": "markdown",
   "id": "b7b4b0ab",
   "metadata": {},
   "source": [
    "**Q12.What are Flask blueprints, and how are they useful?**\n",
    "   - Flask **Blueprints** are a way to structure and organize a Flask application by splitting it into smaller, reusable modules. They help manage large applications by allowing different components (routes, views, and static files) to be grouped separately and imported into the main app.\n",
    "\n",
    "  ### **Use of Flask Blueprints:-**\n",
    "  - **Modularization** – Keeps the application organized and scalable.  \n",
    "  - **Reusability** – Helps reuse routes and logic across projects.  \n",
    "  - **Separation of Concerns** – Allows developers to work on different sections independently.  \n",
    "  - **Easy Maintenance** – Simplifies debugging and updates in large applications.  \n",
    "\n"
   ]
  },
  {
   "cell_type": "markdown",
   "id": "4517f1b1",
   "metadata": {},
   "source": [
    "**Q13.What is the purpose of Flask's request object?**\n",
    " - In Flask, the **`request`** object is used to access **incoming request data** from a client (such as a browser or API consumer). It provides methods and attributes to retrieve information sent with HTTP requests, including form data, JSON payloads, query parameters, headers, and cookies.\n",
    "\n",
    "### **Purpose of Flask’s `request` Object:-**\n",
    " - **Access Request Data** – Retrieve query parameters, form data, and JSON payloads.  \n",
    " - **Handle HTTP Methods** – Check whether the request is a GET, POST, PUT, or DELETE request.  \n",
    " - **Extract Headers & Cookies** – Work with metadata sent by the client.  \n",
    " - **File Uploads** – Process uploaded files within the request.  \n",
    " - **Manage Sessions** – Store and retrieve session data for user interactions.  \n",
    "\n"
   ]
  },
  {
   "cell_type": "markdown",
   "id": "00f78d6f",
   "metadata": {},
   "source": [
    "**Q14.How do you create a RESTful API endpoint using Flask?**\n",
    "  - Flask is a lightweight web framework for Python that makes it easy to build APIs. Here’s how we can do it:\n",
    "\n",
    "### Steps to Create a RESTful API with Flask:\n",
    "\n",
    "1. **Install Flask** (if you haven't already):\n",
    "   ```bash\n",
    "   pip install flask\n",
    "   ```\n",
    "\n",
    "2. **Create a Flask application:**\n",
    "   Start by creating a Python script, e.g., `app.py`, and importing Flask.\n",
    "\n",
    "3. **Define your endpoint:**\n",
    "   ```python\n",
    "   from flask import Flask, jsonify\n",
    "\n",
    "   app = Flask(__name__)\n",
    "\n",
    "   @app.route('/api/greeting', methods=['GET'])\n",
    "   def get_greeting():\n",
    "       response = {\"message\": \"Hello, world!\"}\n",
    "       return jsonify(response)\n",
    "\n",
    "   if __name__ == '__main__':\n",
    "       app.run(debug=True)\n",
    "   ```\n",
    "\n",
    "4. **Run the Flask server**:\n",
    "   ```bash\n",
    "   python app.py\n",
    "   ```\n",
    "   By default, this will run the server on `http://127.0.0.1:5000/`.\n",
    "\n",
    "5. **Test the endpoint**:\n",
    "   Open your browser or use a tool like `curl` or Postman to make a GET request:\n",
    "   ```bash\n",
    "   curl http://127.0.0.1:5000/api/greeting\n",
    "   ```\n",
    "\n",
    "### Enhancements:\n",
    "- Use `Flask-RESTful` for more structured API development.\n",
    "- Implement error handling and status codes.\n",
    "- Connect to a database for dynamic data.\n"
   ]
  },
  {
   "cell_type": "markdown",
   "id": "0b413b61",
   "metadata": {},
   "source": [
    "**Q15.M What is the purpose of Flask's jsonify() function?**\n",
    "   - Flask's `jsonify()` function is used to convert data (typically dictionaries or lists) into a JSON-formatted response, making it easy to send structured data to the client.\n",
    "\n",
    " ### Use of `jsonify()`:-\n",
    "- **Automatic JSON formatting**: Converts Python data structures into properly formatted JSON.\n",
    "- **Sets correct response headers**: Ensures the `Content-Type` header is set to `application/json`, which is essential for APIs.\n",
    "- **Handles character encoding**: Properly encodes special characters and Unicode data.\n",
    "\n"
   ]
  },
  {
   "cell_type": "markdown",
   "id": "c6541064",
   "metadata": {},
   "source": [
    "**Q16. Explain Flask’s url_for() function.**\n",
    "   - Flask’s `url_for()` function is a powerful utility that helps dynamically generate URLs for your routes, making your application more maintainable and flexible.\n",
    "\n",
    "### Purpose of `url_for()`:-\n",
    "- **Dynamic URL generation**: Instead of hardcoding URLs, `url_for()` creates them based on function names, reducing errors if routes change.\n",
    "- **Handles query parameters**: You can pass arguments to generate URLs with query strings.\n",
    "- **Supports URL building for static files**: Helps reference CSS, JavaScript, and other assets easily.\n"
   ]
  },
  {
   "cell_type": "markdown",
   "id": "15ab39d9",
   "metadata": {},
   "source": [
    "**Q17.How does Flask handle static files (CSS, JavaScript, etc.)?**\n",
    "   - Flask handles static files like CSS, JavaScript, and images by providing a designated folder called static. When you place your assets inside this folder, Flask automatically serves them, making it easy to include styles and scripts in your web application.\n"
   ]
  },
  {
   "cell_type": "markdown",
   "id": "786ad0f5",
   "metadata": {},
   "source": [
    "**Q18. What is an API specification, and how does it help in building a Flask API?**\n",
    "   - An **API specification** is a structured document or format that defines how different components in a software system should communicate. It lays out the expected request and response formats, endpoints, authentication methods, and other critical details about an API. Think of it as a blueprint for designing, building, and integrating APIs.\n",
    "\n",
    "### How an API Specification Helps in Building a Flask API:-\n",
    "1. **Standardization** – Ensures consistency in how endpoints are structured and how data is exchanged.\n",
    "2. **Clear Documentation** – Helps developers understand the API’s functionality without needing to read the source code.\n",
    "3. **Better Collaboration** – Allows frontend and backend teams to work independently with a well-defined contract.\n",
    "4. **Automated Code Generation** – Tools like OpenAPI (formerly Swagger) can generate boilerplate code and client libraries.\n",
    "5. **Validation & Testing** – Ensures requests adhere to predefined structures, reducing bugs and miscommunication.\n"
   ]
  },
  {
   "cell_type": "markdown",
   "id": "713eb687",
   "metadata": {},
   "source": [
    "**Q19. What are HTTP status codes, and why are they important in a Flask API?**\n",
    "  - HTTP status codes are three-digit numbers that indicate the outcome of a client's request to a server. They are crucial for Flask APIs because they help communicate whether a request was successful, redirected, caused an error, or needs authentication.\n",
    "\n",
    "### **Categories of HTTP Status Codes**\n",
    "1. **1xx (Informational)** – The request is received and being processed.\n",
    "2. **2xx (Success)** – The request was successful.\n",
    "   - `200 OK`: Request succeeded.\n",
    "   - `201 Created`: Resource was created successfully.\n",
    "3. **3xx (Redirection)** – Further action is needed.\n",
    "   - `301 Moved Permanently`: The requested resource has a new permanent URL.\n",
    "   - `304 Not Modified`: Cached resource hasn't changed.\n",
    "4. **4xx (Client Errors)** – The request has an issue.\n",
    "   - `400 Bad Request`: Invalid request syntax or parameters.\n",
    "   - `401 Unauthorized`: Requires authentication.\n",
    "   - `404 Not Found`: Resource does not exist.\n",
    "5. **5xx (Server Errors)** – Something went wrong on the server.\n",
    "   - `500 Internal Server Error`: General server error.\n",
    "   - `503 Service Unavailable`: Server is overloaded or down.\n",
    "\n",
    "### HTTP Importance in a Flask API:\n",
    "- Improve API communication and debugging.\n",
    "- Help clients handle different responses correctly.\n",
    "- Provide meaningful feedback to users when errors occur.\n"
   ]
  },
  {
   "cell_type": "markdown",
   "id": "7ad211f3",
   "metadata": {},
   "source": [
    "**Q20.How do you handle POST requests in Flask?**\n",
    "   - Handling **POST** requests in Flask allows you to receive data from clients, such as form submissions or JSON payloads. Flask provides the `request` object to access incoming data.\n",
    "\n",
    "### **Steps to Handle POST Requests in Flask**\n",
    "1. **Import Flask and request**:\n",
    "   ```python\n",
    "   from flask import Flask, request, jsonify\n",
    "\n",
    "   app = Flask(__name__)\n",
    "   ```\n",
    "\n",
    "2. **Define a route that accepts POST requests**:\n",
    "   ```python\n",
    "   @app.route('/submit', methods=['POST'])\n",
    "   def submit_data():\n",
    "       data = request.json  # Retrieve JSON payload\n",
    "       return jsonify({\"received\": data}), 201  # Respond with JSON and status code\n",
    "   ```\n",
    "\n",
    "3. **Run the Flask app**:\n",
    "   ```python\n",
    "   if __name__ == '__main__':\n",
    "       app.run(debug=True)\n",
    "   ```\n",
    "\n",
    "### **Sending a POST Request**\n",
    "Use **cURL** to send a POST request:\n",
    "```bash\n",
    "curl -X POST http://127.0.0.1:5000/submit -H \"Content-Type: application/json\" -d '{\"name\": \"Alice\", \"age\": 25}'\n",
    "```\n",
    "\n",
    "### **Handling Form Data**\n",
    "If you're dealing with HTML form submissions:\n",
    "```python\n",
    "@app.route('/form-submit', methods=['POST'])\n",
    "def handle_form():\n",
    "    name = request.form['name']  # Retrieve form data\n",
    "    return f\"Hello, {name}!\"\n",
    "```\n",
    "\n",
    "### **Enhancements**\n",
    "- Validate inputs to prevent errors.\n",
    "- Implement authentication for secure requests.\n",
    "- Use Flask’s `abort()` for error handling.\n",
    "\n"
   ]
  },
  {
   "cell_type": "markdown",
   "id": "3afe60c3",
   "metadata": {},
   "source": [
    "**Q21.How would you secure a Flask API?**\n",
    "   - Securing a Flask API is crucial to prevent unauthorized access, data breaches, and other security risks. Here are key strategies to enhance its security:\n",
    "\n",
    "### **1. Use HTTPS**\n",
    "- Encrypt data using SSL/TLS.\n",
    "- Obtain an SSL certificate and configure your Flask app to use HTTPS.\n",
    "\n",
    "### **2. Implement Authentication & Authorization**\n",
    "- Use **JWT (JSON Web Tokens)** for token-based authentication.\n",
    "- Secure routes with **OAuth2** or API keys.\n",
    "\n",
    "### **3. Validate and Sanitize Input**\n",
    "- Prevent SQL injection with **SQLAlchemy ORM**.\n",
    "- Escape HTML to mitigate **XSS (Cross-site Scripting)** attacks.\n",
    "\n",
    "### **4. Use Rate Limiting**\n",
    "- Prevent abuse and DoS (Denial of Service) attacks with `Flask-Limiter`.\n",
    "  \n",
    "### **5. Secure Sensitive Data**\n",
    "- Store API keys, passwords, and secrets in **environment variables**.\n",
    "- Use `dotenv` to manage configurations securely.\n",
    "\n",
    "### **6. Enable Logging & Monitoring**\n",
    "- Use tools like **Flask-Logging** or **ELK Stack** to detect unauthorized access attempts.\n",
    "\n",
    "### **7. Protect Against CSRF (Cross-Site Request Forgery)**\n",
    "- Use Flask-WTF for CSRF protection in forms.\n",
    " "
   ]
  },
  {
   "cell_type": "markdown",
   "id": "4785591a",
   "metadata": {},
   "source": [
    "**Q22. What is the significance of the Flask-RESTful extension?**\n",
    "   - Flask-RESTful is an extension for Flask that simplifies the process of building RESTful APIs. It provides additional tools and structure to make API development more efficient, scalable, and maintainable.\n",
    "\n",
    "### Benefits of Flask-RESTful:-\n",
    "1. **Simplifies API Development** – Provides easy-to-use decorators and classes to define API resources.\n",
    "2. **Built-in Request Parsing** – Helps validate and parse incoming requests using `reqparse`.\n",
    "3. **Automatic HTTP Methods Handling** – Supports multiple HTTP methods (`GET`, `POST`, `PUT`, `DELETE`) with clear class-based routing.\n",
    "4. **Integrates Well with Flask** – Works seamlessly with Flask’s routing and request handling.\n",
    "5. **Supports Serialization** – Returns structured JSON responses effortlessly.\n"
   ]
  },
  {
   "cell_type": "markdown",
   "id": "5f7a81e9",
   "metadata": {},
   "source": [
    "**Q23. What is the role of Flask’s session object?**\n",
    "   - Flask’s `session` object plays a crucial role in maintaining user-specific data across requests. It allows your application to store and retrieve data for a user during their interaction with the site.\n",
    "\n",
    "### Key Features of Flask’s `session` Object\n",
    "1. **Stores User-Specific Data** – Keeps track of things like login status, preferences, or shopping carts.\n",
    "2. **Persists Across Requests** – Unlike request variables that exist only for a single request, `session` data remains available throughout a user’s visit.\n",
    "3. **Uses Secure Cookies** – Flask sessions are stored in cookies, encrypted using the app's secret key for security.\n",
    "4. **Works with Authentication** – Often used in login systems to track logged-in users.\n"
   ]
  },
  {
   "cell_type": "markdown",
   "id": "4f45b8e6",
   "metadata": {},
   "source": [
    "   ### **Practical Questions**"
   ]
  },
  {
   "cell_type": "markdown",
   "id": "8395b2a8",
   "metadata": {},
   "source": [
    "**Q1.How do you create a basic Flask application?**"
   ]
  },
  {
   "cell_type": "code",
   "execution_count": null,
   "id": "835211a3",
   "metadata": {},
   "outputs": [
    {
     "name": "stdout",
     "output_type": "stream",
     "text": [
      " * Serving Flask app '__main__'\n",
      " * Debug mode: off\n"
     ]
    },
    {
     "name": "stderr",
     "output_type": "stream",
     "text": [
      "WARNING: This is a development server. Do not use it in a production deployment. Use a production WSGI server instead.\n",
      " * Running on all addresses (0.0.0.0)\n",
      " * Running on http://127.0.0.1:5000\n",
      " * Running on http://192.168.1.13:5000\n",
      "Press CTRL+C to quit\n"
     ]
    }
   ],
   "source": [
    "#Answer\n",
    "from flask import Flask\n",
    "\n",
    "app = Flask(__name__)\n",
    "\n",
    "@app.route('/')\n",
    "def home():\n",
    "    return \"Hello, Flask!\"\n",
    "\n",
    "if __name__ == '__main__':\n",
    "    app.run(host=\"0.0.0.0\", port=5000)"
   ]
  },
  {
   "cell_type": "markdown",
   "id": "cad279eb",
   "metadata": {},
   "source": [
    "**Q2.How do you serve static files like images or CSS in Flask?**"
   ]
  },
  {
   "cell_type": "code",
   "execution_count": null,
   "id": "6c71f995",
   "metadata": {},
   "outputs": [
    {
     "name": "stdout",
     "output_type": "stream",
     "text": [
      " * Serving Flask app '__main__'\n",
      " * Debug mode: off\n"
     ]
    },
    {
     "name": "stderr",
     "output_type": "stream",
     "text": [
      "WARNING: This is a development server. Do not use it in a production deployment. Use a production WSGI server instead.\n",
      " * Running on all addresses (0.0.0.0)\n",
      " * Running on http://127.0.0.1:5000\n",
      " * Running on http://192.168.1.13:5000\n",
      "Press CTRL+C to quit\n"
     ]
    }
   ],
   "source": [
    "from flask import Flask, render_template\n",
    "\n",
    "app = Flask(__name__)\n",
    "\n",
    "@app.route('/')\n",
    "def index():\n",
    "    message = \"Hello, World!\"\n",
    "    return render_template('index.html', message=message)\n",
    "\n",
    "if __name__ == '__main__':\n",
    "    app.run(host=\"0.0.0.0\",)"
   ]
  },
  {
   "cell_type": "markdown",
   "id": "d483ecaf",
   "metadata": {},
   "source": [
    "templates\n",
    "\n",
    "   1.index.html\n",
    "\n",
    "Flask Static Demo\n",
    "\n",
    "### {{message}}"
   ]
  },
  {
   "cell_type": "markdown",
   "id": "2b1b24da",
   "metadata": {},
   "source": [
    "**#Q3.How do you define different routes with different HTTP methods in Flask?**"
   ]
  },
  {
   "cell_type": "code",
   "execution_count": null,
   "id": "65e4384e",
   "metadata": {},
   "outputs": [
    {
     "name": "stdout",
     "output_type": "stream",
     "text": [
      " * Serving Flask app '__main__'\n",
      " * Debug mode: off\n"
     ]
    },
    {
     "name": "stderr",
     "output_type": "stream",
     "text": [
      "WARNING: This is a development server. Do not use it in a production deployment. Use a production WSGI server instead.\n",
      " * Running on all addresses (0.0.0.0)\n",
      " * Running on http://127.0.0.1:5000\n",
      " * Running on http://192.168.1.13:5000\n",
      "Press CTRL+C to quit\n"
     ]
    }
   ],
   "source": [
    "#Answer3\n",
    "from flask import Flask, render_template, request, redirect, session\n",
    "\n",
    "app = Flask(__name__)\n",
    "\n",
    "\n",
    "app.secret_key = 'my_secret_key'\n",
    "\n",
    "\n",
    "users = {\n",
    "    'kunal': '1234',\n",
    "    'user2': 'password2'\n",
    "}\n",
    "\n",
    "@app.route('/')\n",
    "def view_form():\n",
    "    return render_template('login.html')\n",
    "\n",
    "@app.route('/handle_get', methods=['GET'])\n",
    "def handle_get():\n",
    "    if request.method == 'GET':\n",
    "        username = request.args['username']\n",
    "        password = request.args['password']\n",
    "        print(username, password)\n",
    "        if username in users and users[username] == password:\n",
    "            return '<h1>Welcome!!!</h1>'\n",
    "        else:\n",
    "            return '<h1>invalid credentials!</h1>'\n",
    "    else:\n",
    "        return render_template('login.html')\n",
    "\n",
    "\n",
    "@app.route('/handle_post', methods=['POST'])\n",
    "def handle_post():\n",
    "    if request.method == 'POST':\n",
    "        username = request.form['username']\n",
    "        password = request.form['password']\n",
    "        print(username, password)\n",
    "        if username in users and users[username] == password:\n",
    "            return '<h1>Welcome!!!</h1>'\n",
    "        else:\n",
    "            return '<h1>invalid credentials!</h1>'\n",
    "    else:\n",
    "        return render_template('login.html')\n",
    "\n",
    "if __name__ == '__main__':\n",
    "    app.run(host=\"0.0.0.0\")"
   ]
  },
  {
   "cell_type": "markdown",
   "id": "168f7197",
   "metadata": {},
   "source": [
    "\n",
    "\n",
    "templates\n",
    "\n",
    "    login.html\n",
    "\n",
    "Handling of http get and post request\n",
    "\n",
    "<div>\n",
    "\n",
    "    <h1>Handle GET Request</h1>\n",
    "    <form method=\"GET\"\n",
    "          action=\"{{ url_for('handle_get') }}\">\n",
    "        <input type=\"text\"\n",
    "               name=\"username\"\n",
    "               placeholder=\"Username\">\n",
    "        <input type=\"password\"\n",
    "               name=\"password\"\n",
    "               placeholder=\"Password\">\n",
    "        <button type=\"submit\">submit</button>\n",
    "    </form>\n",
    "</div>\n",
    "\n",
    "<div>\n",
    "    <h1>Handle POST Request</h1>\n",
    "    <form method=\"POST\"\n",
    "          action=\"{{ url_for('handle_post') }}\">\n",
    "        <input type=\"text\"\n",
    "               name=\"username\"\n",
    "               placeholder=\"Username\">\n",
    "        <input type=\"password\"\n",
    "               name=\"password\"\n",
    "               placeholder=\"Password\">\n",
    "        <button type=\"submit\">submit</button>\n",
    "    </form>\n",
    "</div>\n",
    "\n"
   ]
  },
  {
   "cell_type": "markdown",
   "id": "181d3dba",
   "metadata": {},
   "source": [
    "**Q4. How do you render HTML templates in Flask?**"
   ]
  },
  {
   "cell_type": "code",
   "execution_count": 10,
   "id": "588302e7",
   "metadata": {},
   "outputs": [
    {
     "name": "stdout",
     "output_type": "stream",
     "text": [
      " * Serving Flask app '__main__'\n",
      " * Debug mode: off\n"
     ]
    },
    {
     "name": "stderr",
     "output_type": "stream",
     "text": [
      "WARNING: This is a development server. Do not use it in a production deployment. Use a production WSGI server instead.\n",
      " * Running on all addresses (0.0.0.0)\n",
      " * Running on http://127.0.0.1:5000\n",
      " * Running on http://192.168.1.13:5000\n",
      "Press CTRL+C to quit\n"
     ]
    }
   ],
   "source": [
    "#Answer4\n",
    "from flask import Flask, render_template\n",
    "\n",
    "app = Flask(__name__)\n",
    "\n",
    "@app.route(\"/\")\n",
    "def index():\n",
    "    return render_template(\"index2.html\")\n",
    "\n",
    "if __name__ == \"__main__\":\n",
    "    app.run(host=\"0.0.0.0\")"
   ]
  },
  {
   "cell_type": "markdown",
   "id": "642f0fe5",
   "metadata": {},
   "source": [
    "Templates\n",
    "\n",
    "    1.index2.html\n",
    "\n",
    "Flask App\n",
    "\n",
    "### Welcome to MKumar's world\n",
    "\n",
    "This is a very exciting horror podcast ever in India."
   ]
  },
  {
   "cell_type": "markdown",
   "id": "af19a4e1",
   "metadata": {},
   "source": [
    "**Q5. How can you generate URLs for routes in Flask using url_for?**"
   ]
  },
  {
   "cell_type": "code",
   "execution_count": null,
   "id": "77437833",
   "metadata": {},
   "outputs": [
    {
     "name": "stdout",
     "output_type": "stream",
     "text": [
      " * Serving Flask app '__main__'\n",
      " * Debug mode: off\n"
     ]
    },
    {
     "name": "stderr",
     "output_type": "stream",
     "text": [
      "WARNING: This is a development server. Do not use it in a production deployment. Use a production WSGI server instead.\n",
      " * Running on http://127.0.0.1:5000\n",
      "Press CTRL+C to quit\n"
     ]
    }
   ],
   "source": [
    "#Answer5\n",
    "from flask import Flask, url_for, redirect\n",
    "\n",
    "app = Flask(__name__)\n",
    "\n",
    "@app.route(\"/\")\n",
    "def welcome():\n",
    "    return \"welcome to Mkumargogoipodcast!\"\n",
    "\n",
    "@app.route(\"/student\")\n",
    "def student():\n",
    "    return \"welcome students to Mkemar's podcast!\"\n",
    "@app.route(\"/faculty\")\n",
    "def faculty():\n",
    "    return \"welcome faculty to Mkumar's podcast\"\n",
    "\n",
    "@app.route(\"/user/<name>\")\n",
    "def user(name):\n",
    "    if name==\"student\":\n",
    "        return redirect(url_for(\"student\"))\n",
    "    if name==\"faculty\":\n",
    "        return redirect(url_for(\"faculty\"))\n",
    "\n",
    "app.run(debug=True)"
   ]
  },
  {
   "cell_type": "markdown",
   "id": "f4d3402c",
   "metadata": {},
   "source": [
    "**Q6.How do you handle forms in Flask?**"
   ]
  },
  {
   "cell_type": "code",
   "execution_count": null,
   "id": "123e96eb",
   "metadata": {},
   "outputs": [
    {
     "name": "stdout",
     "output_type": "stream",
     "text": [
      " * Serving Flask app '__main__'\n",
      " * Debug mode: off\n"
     ]
    },
    {
     "name": "stderr",
     "output_type": "stream",
     "text": [
      "WARNING: This is a development server. Do not use it in a production deployment. Use a production WSGI server instead.\n",
      " * Running on http://127.0.0.1:5000\n",
      "Press CTRL+C to quit\n"
     ]
    }
   ],
   "source": [
    "#Answer6\n",
    "from flask import Flask, render_template, request\n",
    "app = Flask(__name__)\n",
    "\n",
    "@app.route(\"/\")\n",
    "def index():\n",
    "    return render_template(\"form.html\")\n",
    "\n",
    "@app.route(\"/submit\", methods=[\"POST\"])\n",
    "def submit():\n",
    "    username = request.form[\"username\"]\n",
    "    email = request.form[\"email\"]\n",
    "    return f\"Hello, {username}! Your email is {email}\"\n",
    "\n",
    "if __name__ == '__main__':\n",
    "    app.run(debug=True,)"
   ]
  },
  {
   "cell_type": "markdown",
   "id": "9739723b",
   "metadata": {},
   "source": [
    "\n",
    "\n",
    "templates\n",
    "\n",
    "    form.html\n",
    "\n",
    "Form Data in Flask\n",
    "\n",
    "### Submit your data\n"
   ]
  },
  {
   "cell_type": "markdown",
   "id": "9e61226a",
   "metadata": {},
   "source": [
    "**Q7. How can you validate form data in Flask?**"
   ]
  },
  {
   "cell_type": "code",
   "execution_count": null,
   "id": "b73e7435",
   "metadata": {},
   "outputs": [
    {
     "name": "stdout",
     "output_type": "stream",
     "text": [
      "Requirement already satisfied: flask_wtf in c:\\users\\radhekrishna\\appdata\\local\\programs\\python\\python313\\lib\\site-packages (1.2.2)\n",
      "Requirement already satisfied: flask in c:\\users\\radhekrishna\\appdata\\local\\programs\\python\\python313\\lib\\site-packages (from flask_wtf) (3.1.1)\n",
      "Requirement already satisfied: itsdangerous in c:\\users\\radhekrishna\\appdata\\local\\programs\\python\\python313\\lib\\site-packages (from flask_wtf) (2.2.0)\n",
      "Requirement already satisfied: wtforms in c:\\users\\radhekrishna\\appdata\\local\\programs\\python\\python313\\lib\\site-packages (from flask_wtf) (3.2.1)\n",
      "Requirement already satisfied: blinker>=1.9.0 in c:\\users\\radhekrishna\\appdata\\local\\programs\\python\\python313\\lib\\site-packages (from flask->flask_wtf) (1.9.0)\n",
      "Requirement already satisfied: click>=8.1.3 in c:\\users\\radhekrishna\\appdata\\local\\programs\\python\\python313\\lib\\site-packages (from flask->flask_wtf) (8.2.0)\n",
      "Requirement already satisfied: jinja2>=3.1.2 in c:\\users\\radhekrishna\\appdata\\local\\programs\\python\\python313\\lib\\site-packages (from flask->flask_wtf) (3.1.6)\n",
      "Requirement already satisfied: markupsafe>=2.1.1 in c:\\users\\radhekrishna\\appdata\\local\\programs\\python\\python313\\lib\\site-packages (from flask->flask_wtf) (3.0.2)\n",
      "Requirement already satisfied: werkzeug>=3.1.0 in c:\\users\\radhekrishna\\appdata\\local\\programs\\python\\python313\\lib\\site-packages (from flask->flask_wtf) (3.1.3)\n",
      "Requirement already satisfied: colorama in c:\\users\\radhekrishna\\appdata\\local\\programs\\python\\python313\\lib\\site-packages (from click>=8.1.3->flask->flask_wtf) (0.4.6)\n",
      "Requirement already satisfied: wtforms in c:\\users\\radhekrishna\\appdata\\local\\programs\\python\\python313\\lib\\site-packages (3.2.1)\n",
      "Requirement already satisfied: markupsafe in c:\\users\\radhekrishna\\appdata\\local\\programs\\python\\python313\\lib\\site-packages (from wtforms) (3.0.2)\n",
      "Requirement already satisfied: wtforms.validators in c:\\users\\radhekrishna\\appdata\\local\\programs\\python\\python313\\lib\\site-packages (1.0.0)\n",
      "Requirement already satisfied: WTForms in c:\\users\\radhekrishna\\appdata\\local\\programs\\python\\python313\\lib\\site-packages (from wtforms.validators) (3.2.1)\n",
      "Requirement already satisfied: dnspython in c:\\users\\radhekrishna\\appdata\\local\\programs\\python\\python313\\lib\\site-packages (from wtforms.validators) (2.7.0)\n",
      "Requirement already satisfied: is-disposable-email in c:\\users\\radhekrishna\\appdata\\local\\programs\\python\\python313\\lib\\site-packages (from wtforms.validators) (1.0.0)\n",
      "Requirement already satisfied: markupsafe in c:\\users\\radhekrishna\\appdata\\local\\programs\\python\\python313\\lib\\site-packages (from WTForms->wtforms.validators) (3.0.2)\n",
      " * Serving Flask app '__main__'\n",
      " * Debug mode: off\n"
     ]
    },
    {
     "name": "stderr",
     "output_type": "stream",
     "text": [
      "ERROR: Could not find a version that satisfies the requirement forms (from versions: none)\n",
      "ERROR: No matching distribution found for forms\n",
      "WARNING: This is a development server. Do not use it in a production deployment. Use a production WSGI server instead.\n",
      " * Running on http://127.0.0.1:5000\n",
      "Press CTRL+C to quit\n"
     ]
    }
   ],
   "source": [
    "#Answer7\n",
    "#forms.py\n",
    "\n",
    "! pip install flask_wtf\n",
    "! pip install wtforms\n",
    "! pip install wtforms.validators\n",
    "! pip install forms\n",
    "\n",
    "\n",
    "from flask_wtf import FlaskForm\n",
    "from wtforms import (StringField, TextAreaField, IntegerField, BooleanField,\n",
    "                     RadioField)\n",
    "from wtforms.validators import InputRequired, Length\n",
    "\n",
    "class CourseForm(FlaskForm):\n",
    "    title = StringField('Title', validators=[InputRequired(),\n",
    "                                             Length(min=10, max=100)])\n",
    "    description = TextAreaField('Course Description',\n",
    "                                validators=[InputRequired(),\n",
    "                                            Length(max=200)])\n",
    "    price = IntegerField('Price', validators=[InputRequired()])\n",
    "    level = RadioField('Level',\n",
    "                       choices=['Beginner', 'Intermediate', 'Advanced'],\n",
    "                       validators=[InputRequired()])\n",
    "    available = BooleanField('Available', default='checked')\n",
    "\n",
    "\n",
    "#apps.py\n",
    "\n",
    "from flask import Flask, render_template, redirect, url_for\n",
    "\n",
    "\n",
    "app = Flask(__name__)\n",
    "app.config['SECRET_KEY'] = 'your secret key'\n",
    "\n",
    "\n",
    "courses_list = [{\n",
    "    'title': 'Python 101',\n",
    "    'description': 'Learn Python basics',\n",
    "    'price': 34,\n",
    "    'available': True,\n",
    "    'level': 'Beginner'\n",
    "    }]\n",
    "\n",
    "\n",
    "@app.route('/', methods=('GET', 'POST'))\n",
    "def index():\n",
    "    form = CourseForm()\n",
    "    return render_template('index.html', form=form)\n",
    "\n",
    "if __name__ == '__main__':\n",
    "    app.run(debug=True)"
   ]
  },
  {
   "cell_type": "markdown",
   "id": "694a3273",
   "metadata": {},
   "source": [
    "Templates\n",
    "\n",
    "    1.base.html\n",
    "\n",
    " {% block title %} {% endblock %} - FlaskApp\n",
    "### FlaskApp About \n",
    "----------------------------------------------------------------------------------------------------------------------------------------------\n",
    "% block content %} {% endblock %}\n",
    "\n",
    "    2.index.html\n",
    "\n",
    "{% extends 'base.html' %}\n",
    "\n",
    "{% block content %} \n",
    "\n",
    "### {% block title %} Add a New Course {% endblock %}\n",
    "\n",
    "<form method=\"POST\" action=\"/\">\n",
    "    {{ form.csrf_token }}\n",
    "    <p>\n",
    "        {{ form.title.label }}\n",
    "        {{ form.title(size=20) }}\n",
    "    </p>\n",
    "\n",
    "    {% if form.title.errors %}\n",
    "        <ul class=\"errors\">\n",
    "            {% for error in form.title.errors %}\n",
    "                <li>{{ error }}</li>\n",
    "            {% endfor %}\n",
    "        </ul>\n",
    "    {% endif %}\n",
    "\n",
    "    <p>\n",
    "        {{ form.description.label }}\n",
    "    </p>\n",
    "    {{ form.description(rows=10, cols=50) }}\n",
    "\n",
    "    {% if form.description.errors %}\n",
    "        <ul class=\"errors\">\n",
    "            {% for error in form.description.errors %}\n",
    "                <li>{{ error }}</li>\n",
    "            {% endfor %}\n",
    "        </ul>\n",
    "    {% endif %}\n",
    "\n",
    "    <p>\n",
    "        {{ form.price.label }}\n",
    "        {{ form.price() }}\n",
    "    </p>\n",
    "\n",
    "    {% if form.price.errors %}\n",
    "        <ul class=\"errors\">\n",
    "            {% for error in form.price.errors %}\n",
    "                <li>{{ error }}</li>\n",
    "            {% endfor %}\n",
    "        </ul>\n",
    "    {% endif %}\n",
    "\n",
    "    <p>\n",
    "        {{ form.available() }} {{ form.available.label }}\n",
    "    </p>\n",
    "\n",
    "    {% if form.available.errors %}\n",
    "        <ul class=\"errors\">\n",
    "            {% for error in form.available.errors %}\n",
    "                <li>{{ error }}</li>\n",
    "            {% endfor %}\n",
    "        </ul>\n",
    "    {% endif %}\n",
    "\n",
    "    <p>\n",
    "        {{ form.level.label }}\n",
    "        {{ form.level() }}\n",
    "    </p>\n",
    "\n",
    "    {% if form.level.errors %}\n",
    "        <ul class=\"errors\">\n",
    "            {% for error in form.level.errors %}\n",
    "                <li>{{ error }}</li>\n",
    "            {% endfor %}\n",
    "        </ul>\n",
    "    {% endif %}\n",
    "\n",
    "    <p>\n",
    "        <input type=\"submit\" value=\"Add\">\n",
    "    </p>\n",
    "</form>\n",
    "\n",
    "{% endblock %}"
   ]
  },
  {
   "cell_type": "markdown",
   "id": "f4967880",
   "metadata": {},
   "source": [
    "**Q8. How do you manage sessions in Flask?**"
   ]
  },
  {
   "cell_type": "code",
   "execution_count": null,
   "id": "a962de34",
   "metadata": {},
   "outputs": [
    {
     "name": "stdout",
     "output_type": "stream",
     "text": [
      " * Serving Flask app '__main__'\n",
      " * Debug mode: off\n"
     ]
    },
    {
     "name": "stderr",
     "output_type": "stream",
     "text": [
      "WARNING: This is a development server. Do not use it in a production deployment. Use a production WSGI server instead.\n",
      " * Running on http://127.0.0.1:5000\n",
      "Press CTRL+C to quit\n"
     ]
    }
   ],
   "source": [
    "#Answer8\n",
    "from flask import Flask, render_template_string, request, session, redirect, url_for\n",
    "\n",
    "from datetime import timedelta\n",
    "\n",
    "app = Flask(__name__)\n",
    "app.secret_key = \"mysecretkey\"  # Replace with a strong, randomly generated key\n",
    "app.permanent_session_lifetime = timedelta(minutes=30)\n",
    "\n",
    "@app.route(\"/\")\n",
    "def index():\n",
    "    if \"username\" in session:\n",
    "        return f\"Logged in as {session['username']}\"\n",
    "    return \"You are not logged in\"\n",
    "\n",
    "@app.route(\"/login\", methods=[\"GET\", \"POST\"])\n",
    "def login():\n",
    "    if request.method == \"POST\":\n",
    "        session[\"username\"] = request.form[\"username\"]\n",
    "        session.permanent = True  # Mark session as permanent\n",
    "        return redirect(url_for(\"index\"))\n",
    "    return \"\"\"\n",
    "        <form method=\"post\">\n",
    "            <input type=\"text\" name=\"username\" placeholder=\"Username\">\n",
    "            <button type=\"submit\">Log in</button>\n",
    "        </form>\n",
    "    \"\"\"\n",
    "\n",
    "@app.route(\"/logout\")\n",
    "def logout():\n",
    "    session.pop(\"username\", None)\n",
    "    return redirect(url_for(\"index\"))\n",
    "\n",
    "if __name__ == \"__main__\":\n",
    "    app.run(debug=True)"
   ]
  },
  {
   "cell_type": "markdown",
   "id": "cd3a6541",
   "metadata": {},
   "source": [
    "**Q9.How do you redirect to a different route in Flask?**"
   ]
  },
  {
   "cell_type": "code",
   "execution_count": null,
   "id": "c939b032",
   "metadata": {},
   "outputs": [
    {
     "name": "stdout",
     "output_type": "stream",
     "text": [
      " * Serving Flask app '__main__'\n",
      " * Debug mode: off\n"
     ]
    },
    {
     "name": "stderr",
     "output_type": "stream",
     "text": [
      "WARNING: This is a development server. Do not use it in a production deployment. Use a production WSGI server instead.\n",
      " * Running on http://127.0.0.1:5000\n",
      "Press CTRL+C to quit\n"
     ]
    }
   ],
   "source": [
    "#Answer9\n",
    "from flask import Flask, redirect\n",
    "\n",
    "# instance of flask application\n",
    "app = Flask(__name__)\n",
    "\n",
    "# home route that redirects to\n",
    "# helloworld page\n",
    "@app.route(\"/\")\n",
    "def home():\n",
    "    return redirect(\"/helloworld\")\n",
    "\n",
    "# route that returns hello world text\n",
    "@app.route(\"/helloworld\")\n",
    "def hello_world():\n",
    "    return \"<p>Hello, World from \\\n",
    "                redirected page.!</p>\"\n",
    "\n",
    "\n",
    "if __name__ == '__main__':\n",
    "    app.run(debug=True)"
   ]
  },
  {
   "cell_type": "markdown",
   "id": "8241ae23",
   "metadata": {},
   "source": [
    "**Q10. How do you handle errors in Flask (e.g., 404)?**"
   ]
  },
  {
   "cell_type": "code",
   "execution_count": 28,
   "id": "08bca94a",
   "metadata": {},
   "outputs": [
    {
     "name": "stdout",
     "output_type": "stream",
     "text": [
      "402789647337170867317246136356926989705094239074925347176343710340368450911027649612636252695456374205280468598807393254690298539867803367460225153499614535588421928591160833678742451354915921252299285456946271396995850437959540645019696372741142787347450281325324373824456300226871609431497826989489109522725791691167945698509282421538632966523376679891823696900982075223188279465194065489111498586522997573307838057934994706212934291477882221464914058745808179795130018969175605739824237247684512790169648013778158661520384916357285547219660337504067910087936301580874662367543921288988208261944834178369169805682489420504038334529389177845089679546075023305854006141256288633820079940395329251563788399404652902154519302928365169452383531030755684578503851488154092323576150311569325891190105926118761607100286827930472944913272420825078912158741589850136017030887975452922434889688775883386977825215904423682478943313806072144097432418695807412571292308739802481089407002523955080148184062810447564594783139830113821372260474145316521647368313934670783858482781506915288378941348078689691815657785305896912277993200639858696294199549107738635599538328374931258525869323348477334798827676297868823693023377418942304272267800509765805435653787530370118261219994752588866451072715583785495394684524593296728611334955079882857173250037068541860372512693170819259309411027837176612444692649174536429745421086287708588130082168792750697158901737130221751430550976429258055277255676893874108456870904122902259417224707137723406125811549952159629766771063079472679280213882978523785424760309678138268708239764925768714349554665438389311198715040908077757086900159389712443987670244241787904585093011546861502058550090914877900852701619648229332192401075747543562989953271508977501771085759521631427816116191761031257454497039673414248149210836002497114107565960458576525212556159634975715552638678172137468172843066451093984443636560722213668172225585711566558134467392654185460222589723312097599987253417831473939565071006344352518096564427781204200068323913056897090916602712260306869786107237077572445866572945760977721639408338430009976028970539150822336553856613962747814621747092348996915755983464741082000337526945990059365493439921937093368896754791416759604324895514660325913157843796039917819613717350380997781225472000000000000000000000000000000000000000000000000000000000000000000000000000000000000000000000000000000000000000000000000000000000000000000000000000000000000000000000000000000000000000000000000000000000000000000000000000000000000000000000000000000000\n",
      " * Serving Flask app '__main__'\n",
      " * Debug mode: off\n"
     ]
    },
    {
     "name": "stderr",
     "output_type": "stream",
     "text": [
      "WARNING: This is a development server. Do not use it in a production deployment. Use a production WSGI server instead.\n",
      " * Running on all addresses (0.0.0.0)\n",
      " * Running on http://127.0.0.1:5000\n",
      " * Running on http://192.168.1.13:5000\n",
      "Press CTRL+C to quit\n"
     ]
    }
   ],
   "source": [
    "#Answer10\n",
    "from flask import Flask, render_template\n",
    "\n",
    "app = Flask(__name__)\n",
    "\n",
    "@app.errorhandler(404)\n",
    "def not_found(e):\n",
    "  return render_template(\"404.html\")\n",
    "\n",
    "def factorial_recursive_with_base_case(n):\n",
    "    # Base case: when n is 0, return 1\n",
    "    if n == 0:\n",
    "        return 1\n",
    "\n",
    "    # Recursive call\n",
    "    return n * factorial_recursive_with_base_case(n - 1)\n",
    "\n",
    "import sys\n",
    "\n",
    "sys.setrecursionlimit(10**6)\n",
    "\n",
    "def fact(n):\n",
    "  if(n == 0):\n",
    "    return 1\n",
    "  return n * fact(n - 1)\n",
    "\n",
    "if __name__ == '__main__':\n",
    "  f = 1001\n",
    "  print(fact(f))\n",
    "app.run(host=\"0.0.0.0\")"
   ]
  },
  {
   "cell_type": "markdown",
   "id": "e741d528",
   "metadata": {},
   "source": [
    "templates\n",
    "\n",
    "    1. 404.html\n",
    "\n",
    "{% extends \"header.html\" %}\n",
    "\n",
    "{% block title %}Page Not Found{% endblock %}\n",
    "\n",
    "{% block body %}\n",
    "\n",
    "### Oops! Looks like the page doesnt exist anymore\n",
    "\n",
    "Redirecting to Home Page after 5 seconds...\n",
    "\n",
    "{% endblock %}"
   ]
  },
  {
   "cell_type": "markdown",
   "id": "283b860f",
   "metadata": {},
   "source": [
    "**Q11.How do you structure a Flask app using Blueprints?**"
   ]
  },
  {
   "cell_type": "code",
   "execution_count": 33,
   "id": "41167c29",
   "metadata": {},
   "outputs": [
    {
     "name": "stdout",
     "output_type": "stream",
     "text": [
      "Requirement already satisfied: flask-blueprint in c:\\users\\radhekrishna\\appdata\\local\\programs\\python\\python313\\lib\\site-packages (1.3.0)\n"
     ]
    },
    {
     "ename": "ImportError",
     "evalue": "attempted relative import with no known parent package",
     "output_type": "error",
     "traceback": [
      "\u001b[31m---------------------------------------------------------------------------\u001b[39m",
      "\u001b[31mImportError\u001b[39m                               Traceback (most recent call last)",
      "\u001b[36mCell\u001b[39m\u001b[36m \u001b[39m\u001b[32mIn[33]\u001b[39m\u001b[32m, line 7\u001b[39m\n\u001b[32m      5\u001b[39m \u001b[38;5;28;01mfrom\u001b[39;00m\u001b[38;5;250m \u001b[39m\u001b[34;01mflask\u001b[39;00m\u001b[38;5;250m \u001b[39m\u001b[38;5;28;01mimport\u001b[39;00m Flask\n\u001b[32m      6\u001b[39m \u001b[38;5;28;01mfrom\u001b[39;00m\u001b[38;5;250m \u001b[39m\u001b[34;01mflask\u001b[39;00m\u001b[38;5;250m \u001b[39m\u001b[38;5;28;01mimport\u001b[39;00m Blueprint, flash, g, redirect, render_template, request, session, url_for\n\u001b[32m----> \u001b[39m\u001b[32m7\u001b[39m \u001b[38;5;28;01mfrom\u001b[39;00m\u001b[38;5;250m \u001b[39m\u001b[34;01m.\u001b[39;00m\u001b[38;5;250m \u001b[39m\u001b[38;5;28;01mimport\u001b[39;00m auth\n\u001b[32m      8\u001b[39m app.register_blueprint(auth.bp)\n\u001b[32m      9\u001b[39m \u001b[38;5;28;01mfrom\u001b[39;00m\u001b[38;5;250m \u001b[39m\u001b[34;01mBlueprints\u001b[39;00m\u001b[34;01m.\u001b[39;00m\u001b[34;01mauth\u001b[39;00m\u001b[38;5;250m \u001b[39m\u001b[38;5;28;01mimport\u001b[39;00m auth_bp\n",
      "\u001b[31mImportError\u001b[39m: attempted relative import with no known parent package"
     ]
    }
   ],
   "source": [
    "#Answer11\n",
    "\n",
    "! pip install flask-blueprint\n",
    "import functools\n",
    "from flask import Flask\n",
    "from flask import Blueprint, flash, g, redirect, render_template, request, session, url_for\n",
    "from . import auth\n",
    "app.register_blueprint(auth.bp)\n",
    "from Blueprints.auth import auth_bp\n",
    "from blueprints.users import users_bp\n",
    "\n",
    "\n",
    "\n",
    "app = Flask(__name__)\n",
    "\n",
    "app.register_blueprint(auth_bp, url_prefix='/auth')\n",
    "app.register_blueprint(users_bp, url_prefix='/users')\n",
    "\n",
    "if __name__ == '__main__':\n",
    "  app.run(host=\"0.0.0.0\")"
   ]
  },
  {
   "cell_type": "code",
   "execution_count": 34,
   "id": "a09521c9",
   "metadata": {},
   "outputs": [
    {
     "name": "stdout",
     "output_type": "stream",
     "text": [
      " * Serving Flask app '__main__'\n",
      " * Debug mode: off\n"
     ]
    },
    {
     "name": "stderr",
     "output_type": "stream",
     "text": [
      "WARNING: This is a development server. Do not use it in a production deployment. Use a production WSGI server instead.\n",
      " * Running on http://127.0.0.1:5000\n",
      "Press CTRL+C to quit\n"
     ]
    }
   ],
   "source": [
    "# blueprints/auth.py\n",
    "\n",
    "from flask import Blueprint\n",
    "\n",
    "auth_bp = Blueprint('auth', __name__, template_folder='templates')\n",
    "\n",
    "@auth_bp.route('/login')\n",
    "def login():\n",
    "  return \"Login Page\"\n",
    "\n",
    "@auth_bp.route('/logout')\n",
    "def logout():\n",
    "  return \"Logout Successful\"\n",
    "\n",
    "app.run()"
   ]
  },
  {
   "cell_type": "code",
   "execution_count": 35,
   "id": "262c9a3a",
   "metadata": {},
   "outputs": [
    {
     "name": "stdout",
     "output_type": "stream",
     "text": [
      " * Serving Flask app '__main__'\n",
      " * Debug mode: off\n"
     ]
    },
    {
     "name": "stderr",
     "output_type": "stream",
     "text": [
      "WARNING: This is a development server. Do not use it in a production deployment. Use a production WSGI server instead.\n",
      " * Running on http://127.0.0.1:5000\n",
      "Press CTRL+C to quit\n"
     ]
    }
   ],
   "source": [
    "# blueprints/users.py\n",
    "\n",
    "\n",
    "from flask import Blueprint\n",
    "\n",
    "users_bp = Blueprint('users', __name__, template_folder='templates')\n",
    "\n",
    "@users_bp.route('/profile')\n",
    "def profile():\n",
    "  return \"User Profile\"\n",
    "\n",
    "app.run()\n"
   ]
  },
  {
   "cell_type": "markdown",
   "id": "81270248",
   "metadata": {},
   "source": [
    "**Q12.How do you define a custom Jinja filter in Flask?**"
   ]
  },
  {
   "cell_type": "code",
   "execution_count": null,
   "id": "acf02aa0",
   "metadata": {},
   "outputs": [
    {
     "name": "stdout",
     "output_type": "stream",
     "text": [
      " * Serving Flask app '__main__'\n",
      " * Debug mode: off\n"
     ]
    },
    {
     "name": "stderr",
     "output_type": "stream",
     "text": [
      "WARNING: This is a development server. Do not use it in a production deployment. Use a production WSGI server instead.\n",
      " * Running on http://127.0.0.1:5000\n",
      "Press CTRL+C to quit\n"
     ]
    }
   ],
   "source": [
    "#Answer12\n",
    "from flask import Flask\n",
    "\n",
    "app = Flask(__name__)\n",
    "\n",
    "# Custom filter function: reverses a string\n",
    "def reverse_string(s):\n",
    "    return s[::-1]\n",
    "\n",
    "# Register the filter with Jinja\n",
    "app.jinja_env.filters['reverse'] = reverse_string\n",
    "\n",
    "@app.route(\"/\")\n",
    "def index():\n",
    "    # Example usage in template: {{ \"Flask\" | reverse }}\n",
    "    return '''\n",
    "        <h2>Custom Jinja Filter Example</h2>\n",
    "        <p>Original: Flask</p>\n",
    "        <p>Reversed: {{ \"Flask\" | reverse }}</p>\n",
    "    '''\n",
    "\n",
    "if __name__ == \"__main__\":\n",
    "    app.run(debug=True)"
   ]
  },
  {
   "cell_type": "markdown",
   "id": "5919bbd5",
   "metadata": {},
   "source": [
    "**Q13.How can you redirect with query parameters in Flask?**"
   ]
  },
  {
   "cell_type": "code",
   "execution_count": 38,
   "id": "5dce4d09",
   "metadata": {},
   "outputs": [
    {
     "name": "stdout",
     "output_type": "stream",
     "text": [
      " * Serving Flask app '__main__'\n",
      " * Debug mode: off\n"
     ]
    },
    {
     "name": "stderr",
     "output_type": "stream",
     "text": [
      "WARNING: This is a development server. Do not use it in a production deployment. Use a production WSGI server instead.\n",
      " * Running on all addresses (0.0.0.0)\n",
      " * Running on http://127.0.0.1:5000\n",
      " * Running on http://192.168.1.13:5000\n",
      "Press CTRL+C to quit\n"
     ]
    }
   ],
   "source": [
    "#Answer13\n",
    "\n",
    "from flask import Flask, redirect, url_for, request\n",
    "\n",
    "\n",
    "app = Flask(__name__)\n",
    "\n",
    "@app.route('/')\n",
    "def index():\n",
    "    return '''<form action=\"/goto\" method=\"POST\">\n",
    "            <input name=\"username\">\n",
    "            <input type=\"submit\" value=\"Go\">\n",
    "        </form>'''\n",
    "\n",
    "@app.route('/goto', methods=['POST'])\n",
    "def login_post():\n",
    "    username = request.form.get('username')\n",
    "    if username is None or username == '':\n",
    "        return redirect(url_for('user_page_central'))\n",
    "    return redirect(url_for('user_page', name = username))\n",
    "\n",
    "@app.route('/user/')\n",
    "def user_page_central():\n",
    "    return 'List of users'\n",
    "\n",
    "@app.route('/user/<name>')\n",
    "def user_page(name):\n",
    "    return f'Page of {name}'\n",
    "\n",
    "app.run(host=\"0.0.0.0\")"
   ]
  },
  {
   "cell_type": "markdown",
   "id": "41624167",
   "metadata": {},
   "source": [
    "**Q14.How do you return JSON responses in Flask?**"
   ]
  },
  {
   "cell_type": "code",
   "execution_count": 39,
   "id": "11d23f6d",
   "metadata": {},
   "outputs": [
    {
     "name": "stdout",
     "output_type": "stream",
     "text": [
      " * Serving Flask app '__main__'\n",
      " * Debug mode: off\n"
     ]
    },
    {
     "name": "stderr",
     "output_type": "stream",
     "text": [
      "WARNING: This is a development server. Do not use it in a production deployment. Use a production WSGI server instead.\n",
      " * Running on all addresses (0.0.0.0)\n",
      " * Running on http://127.0.0.1:5000\n",
      " * Running on http://192.168.1.13:5000\n",
      "Press CTRL+C to quit\n"
     ]
    }
   ],
   "source": [
    "#Answer14\n",
    "\n",
    "from flask import Flask, jsonify\n",
    "\n",
    "\n",
    "app =   Flask(__name__)\n",
    "\n",
    "@app.route('/summary')\n",
    "def summary():\n",
    "    data = make_summary()\n",
    "    response = app.response_class(\n",
    "        response=json.dumps(data),\n",
    "        status=200,\n",
    "        mimetype='application/json'\n",
    "    )\n",
    "    return response\n",
    "\n",
    "if __name__=='__main__':\n",
    "    app.run(host=\"0.0.0.0\")"
   ]
  },
  {
   "cell_type": "code",
   "execution_count": null,
   "id": "1cc61b61",
   "metadata": {},
   "outputs": [],
   "source": [
    "pi =   Api(app)\n",
    "\n",
    "class returnjson(Resource):\n",
    "    def get(self):\n",
    "        data={\n",
    "            \"Modules\": 15,\n",
    "            \"Subject\": \"Data Structures and Algorithms\"\n",
    "        }\n",
    "        return data\n",
    "\n",
    "api.add_resource(returnjson,'/returnjson')"
   ]
  },
  {
   "cell_type": "markdown",
   "id": "ca91618f",
   "metadata": {},
   "source": [
    "**Q15.How do you capture URL parameters in Flask?**"
   ]
  },
  {
   "cell_type": "code",
   "execution_count": 41,
   "id": "4d8cbcbc",
   "metadata": {},
   "outputs": [
    {
     "name": "stdout",
     "output_type": "stream",
     "text": [
      " * Serving Flask app '__main__'\n",
      " * Debug mode: off\n"
     ]
    },
    {
     "name": "stderr",
     "output_type": "stream",
     "text": [
      "WARNING: This is a development server. Do not use it in a production deployment. Use a production WSGI server instead.\n",
      " * Running on all addresses (0.0.0.0)\n",
      " * Running on http://127.0.0.1:5000\n",
      " * Running on http://192.168.1.13:5000\n",
      "Press CTRL+C to quit\n"
     ]
    }
   ],
   "source": [
    "#Answer15\n",
    "\n",
    "from flask import Flask, request\n",
    "\n",
    "app = Flask(__name__)\n",
    "\n",
    "@app.route(\"/\", methods = [\"GET\"])\n",
    "def get_info():\n",
    "    username = request.args.get(\"username\")\n",
    "    age = request.args.get(\"age\")\n",
    "\n",
    "    return f\" Hello this is homepage : {username}, this is my age : {age}\"\n",
    "\n",
    "if __name__ == '__main__':\n",
    "    app.run(host=\"0.0.0.0\")"
   ]
  },
  {
   "cell_type": "code",
   "execution_count": null,
   "id": "0541fa4b",
   "metadata": {},
   "outputs": [],
   "source": []
  }
 ],
 "metadata": {
  "kernelspec": {
   "display_name": "Python 3",
   "language": "python",
   "name": "python3"
  },
  "language_info": {
   "codemirror_mode": {
    "name": "ipython",
    "version": 3
   },
   "file_extension": ".py",
   "mimetype": "text/x-python",
   "name": "python",
   "nbconvert_exporter": "python",
   "pygments_lexer": "ipython3",
   "version": "3.13.3"
  }
 },
 "nbformat": 4,
 "nbformat_minor": 5
}
